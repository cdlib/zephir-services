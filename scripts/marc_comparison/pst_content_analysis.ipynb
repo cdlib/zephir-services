{
 "cells": [
  {
   "cell_type": "code",
   "execution_count": 1,
   "metadata": {},
   "outputs": [],
   "source": [
    "import os\n",
    "import csv\n",
    "\n",
    "from sqlalchemy import create_engine, text\n",
    "from sqlalchemy.engine.url import URL"
   ]
  },
  {
   "cell_type": "code",
   "execution_count": 2,
   "metadata": {},
   "outputs": [],
   "source": [
    "DB_USERNAME = os.environ.get('DB_USERNAME')\n",
    "DB_PASSWORD = os.environ.get('DB_PASSWORD')\n",
    "DB_HOST = os.environ.get('DB_HOST')\n",
    "DB_DATABASE = os.environ.get('DB_DATABASE')"
   ]
  },
  {
   "cell_type": "code",
   "execution_count": 3,
   "metadata": {},
   "outputs": [],
   "source": [
    "url = URL.create(\n",
    "        \"mysql+mysqlconnector\",\n",
    "        username=DB_USERNAME,\n",
    "        password=DB_PASSWORD,\n",
    "        host=DB_HOST,\n",
    "        port=3306,\n",
    "        database=DB_DATABASE,\n",
    "    )\n",
    "engine = create_engine(url)"
   ]
  },
  {
   "cell_type": "code",
   "execution_count": 4,
   "metadata": {},
   "outputs": [],
   "source": [
    "with open('pst_20240426_google_ids.txt') as f:\n",
    "    ids = f.read().splitlines()"
   ]
  },
  {
   "cell_type": "code",
   "execution_count": 18,
   "metadata": {},
   "outputs": [],
   "source": [
    "def query_marc_records_from_db(engine, ids):\n",
    "    results = []\n",
    "    chunk_size = 500  # Adjust based on your database's performance and limits\n",
    "    chunks = [ids[i:i + chunk_size] for i in range(0, len(ids), chunk_size)]\n",
    "    with engine.connect() as connection:\n",
    "        for chunk in chunks:\n",
    "            # Generate the placeholders for each chunk\n",
    "            placeholders = ','.join([':id{}'.format(i) for i in range(len(chunk))])\n",
    "            \n",
    "            # Construct the query with dynamic placeholders\n",
    "            query_str = f\"\"\"select zr.id, zr.cid, zr.attr_ingest_date from zephir_records as zr \n",
    "                            where zr.id in ({placeholders})\n",
    "                            and (select count(zr2.namespace) from zephir_records as zr2 where zr2.cid = zr.cid and zr2.attr_ingest_date is not null and zr2.namespace != 'PST') > 0;\"\"\"\n",
    "            # Prepare parameters as a dictionary {placeholder_name: value}\n",
    "            params = {f'id{i}': chunk[i] for i in range(len(chunk))}\n",
    "            results.extend(connection.execute(text(query_str), params).fetchall())\n",
    "    return results"
   ]
  },
  {
   "cell_type": "code",
   "execution_count": 19,
   "metadata": {},
   "outputs": [],
   "source": [
    "result = query_marc_records_from_db(engine, ids)"
   ]
  },
  {
   "cell_type": "code",
   "execution_count": 20,
   "metadata": {},
   "outputs": [
    {
     "data": {
      "text/plain": [
       "3566"
      ]
     },
     "execution_count": 20,
     "metadata": {},
     "output_type": "execute_result"
    }
   ],
   "source": [
    "len(result)"
   ]
  },
  {
   "cell_type": "code",
   "execution_count": 21,
   "metadata": {},
   "outputs": [],
   "source": [
    "with open(\"result.csv\", \"w\") as f:\n",
    "    writer = csv.writer(f)\n",
    "    writer.writerows(result)"
   ]
  },
  {
   "cell_type": "code",
   "execution_count": null,
   "metadata": {},
   "outputs": [],
   "source": []
  }
 ],
 "metadata": {
  "kernelspec": {
   "display_name": "marc_comparison-2FsvbiOa",
   "language": "python",
   "name": "python3"
  },
  "language_info": {
   "codemirror_mode": {
    "name": "ipython",
    "version": 3
   },
   "file_extension": ".py",
   "mimetype": "text/x-python",
   "name": "python",
   "nbconvert_exporter": "python",
   "pygments_lexer": "ipython3",
   "version": "3.11.9"
  }
 },
 "nbformat": 4,
 "nbformat_minor": 2
}
